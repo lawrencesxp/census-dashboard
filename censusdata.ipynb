{
  "nbformat": 4,
  "nbformat_minor": 0,
  "metadata": {
    "colab": {
      "provenance": []
    },
    "kernelspec": {
      "name": "python3",
      "display_name": "Python 3"
    },
    "language_info": {
      "name": "python"
    }
  },
  "cells": [
    {
      "cell_type": "code",
      "execution_count": null,
      "metadata": {
        "collapsed": true,
        "id": "59p3RfwEtvKb",
        "colab": {
          "base_uri": "https://localhost:8080/"
        },
        "outputId": "947ff004-71bf-4f88-f825-e184ca8fd61d"
      },
      "outputs": [
        {
          "output_type": "stream",
          "name": "stdout",
          "text": [
            "   State_sc  District_sc  Level_sc          Name_sc TRU_sc  No_HH_Head_sc  \\\n",
            "0         0            0     India            India  Rural       31803775   \n",
            "1         1            0     State  JAMMU & KASHMIR  Rural         149536   \n",
            "2         1            1  DISTRICT          Kupwara  Rural             63   \n",
            "3         1            2  DISTRICT           Badgam  Rural              1   \n",
            "4         1            3  DISTRICT      Leh(Ladakh)  Rural             14   \n",
            "\n",
            "    TOT_P_sc  TOT_M_sc  TOT_F_sc   P_06_sc  ...  MARG_AL_0_3_F  MARG_HH_0_3_P  \\\n",
            "0  153850848  79118287  74732561  23343585  ...        5640822        1154975   \n",
            "1     751026    392981    358045    107719  ...          40936          21963   \n",
            "2        872       870         2         1  ...           1893           1130   \n",
            "3         86        78         8         0  ...           2000           3652   \n",
            "4        108        89        19         4  ...             92             63   \n",
            "\n",
            "   MARG_HH_0_3_M  MARG_HH_0_3_F  MARG_OT_0_3_P  MARG_OT_0_3_M  MARG_OT_0_3_F  \\\n",
            "0         386077         768898        3803400        1972348        1831052   \n",
            "1           5757          16206          89232          45625          43607   \n",
            "2            556            574           6644           4149           2495   \n",
            "3           1107           2545           3585           1740           1845   \n",
            "4             16             47            423            291            132   \n",
            "\n",
            "   NON_WORK_P  NON_WORK_M  NON_WORK_F  \n",
            "0   485005760   200944045   284061715  \n",
            "1     5994979     2562471     3432508  \n",
            "2      569632      250046      319586  \n",
            "3      474065      208816      265249  \n",
            "4       39435       17482       21953  \n",
            "\n",
            "[5 rows x 190 columns]\n"
          ]
        }
      ],
      "source": [
        "from google.colab import files\n",
        "import pandas as pd\n",
        "import numpy as np\n",
        "import matplotlib.pyplot as plt\n",
        "import seaborn as sns\n",
        "import warnings\n",
        "warnings.filterwarnings('ignore')\n",
        "\n",
        "sc = pd.read_excel('/content/DistrictWiseStatistics.xlsx')\n",
        "#sc2 = pd.read_excel('/content/B1 SC copy.xls', engine = \"xlrd\")\n",
        "#gen1 = pd.read_excel('/content/B4_Copy.xlsx')\n",
        "#pop = pd.read_excel('/content/popmax.xlsx')\n",
        "#rs = pd.read_excel('/content/ReligionState.xlsx')\n",
        "#age14 = pd.read_excel('/content/SCage514.xls', engine = \"xlrd\")\n",
        "#agetot = pd.read_excel('/content/SCageTotal.xls', engine = \"xlrd\")\n",
        "#st = pd.read_excel('pca_state_distt_st.xls', engine='xlrd')\n",
        "\n",
        "#print(rs.head())\n",
        "print(sc.head())\n",
        "#print(st.head())\n",
        "#print(sc2.head())\n",
        "#print(gen1.head())\n",
        "#print(pop.head())\n",
        "#print(age14.head())\n",
        "#print(agetot.head())"
      ]
    },
    {
      "cell_type": "code",
      "source": [
        "# Ratio of SC population by total population\n",
        "sc['TOT_P_sc/TOT_P'] = (sc['TOT_P_sc'] / sc['TOT_P'])\n",
        "sc['TOT_F_sc/TOT_F'] = (sc['TOT_F_sc'] / sc['TOT_F'])\n",
        "sc['TOT_M_sc/TOT_M'] = (sc['TOT_M_sc'] / sc['TOT_M'])\n",
        "\n",
        "# Literacy ratio of SCs\n",
        "sc['P_LIT_sc/P_LIT'] = (sc['P_LIT_sc'] / sc['P_LIT'])\n",
        "sc['P_LIT_sc/TOT_P_sc'] = (sc['P_LIT_sc'] / sc['TOT_P_sc'])\n",
        "sc['F_LIT_sc/P_LIT_sc'] = (sc['F_LIT_sc'] / sc['P_LIT_sc'])\n",
        "sc['M_LIT_sc/P_LIT_sc'] = (sc['M_LIT_sc'] / sc['P_LIT_sc'])\n",
        "\n",
        "# Overall employment (Total, main & marginal)\n",
        "sc['TOT_WORK_P/TOT_P'] = (sc['TOT_WORK_P'] / sc['TOT_P']) # Total employment ratio\n",
        "sc['TOT_WORK_F/TOT_F'] = (sc['TOT_WORK_F'] / sc['TOT_F']) # Total Female employment ratio\n",
        "sc['TOT_WORK_M/TOT_M'] = (sc['TOT_WORK_M'] / sc['TOT_M']) # Total Male employment ratio\n",
        "\n",
        "sc['NON_WORK_P/TOT_P'] = (sc['NON_WORK_P'] / sc['TOT_P']) # Total unemployment ratio\n",
        "sc['NON_WORK_F/TOT_F'] = (sc['NON_WORK_F'] / sc['TOT_F']) # Total Female unemployment ratio\n",
        "sc['NON_WORK_M/TOT_M'] = (sc['NON_WORK_M'] / sc['TOT_M']) # Total Male unemployment ratio\n",
        "\n",
        "sc['MAINWORK_P/TOT_WORK_P'] = (sc['MAINWORK_P'] / sc['TOT_WORK_P']) # Employment of Main workers\n",
        "sc['MAINWORK_F/TOT_WORK_F'] = (sc['MAINWORK_F'] / sc['TOT_WORK_F']) # Employment of female Main workers\n",
        "sc['MAINWORK_M/TOT_WORK_M'] = (sc['MAINWORK_M'] / sc['TOT_WORK_M']) # Employment of male Main workers\n",
        "\n",
        "sc['MARGWORK_P/TOT_WORK_P'] = (sc['MARGWORK_P'] / sc['TOT_WORK_P']) # Employment of Marginal workers\n",
        "sc['MARGWORK_F/TOT_WORK_F'] = (sc['MARGWORK_F'] / sc['TOT_WORK_F']) # Employment of female Marginal workers\n",
        "sc['MARGWORK_M/TOT_WORK_M'] = (sc['MARGWORK_M'] / sc['TOT_WORK_M']) # Employment of male Marginal workers\n",
        "\n",
        "# Overall Culativator, Agricultural Labourer, Wokers in Household Industries employment & Other workers\n",
        "# Main workers\n",
        "sc['MAIN_CL_P/MAINWORK_P'] = (sc['MAIN_CL_P'] / sc['MAINWORK_P']) # Employment of main worker cultivators\n",
        "sc['MAIN_CL_F/MAINWORK_F'] = (sc['MAIN_CL_F'] / sc['MAINWORK_F']) # Employment of female main worker cultivators\n",
        "sc['MAIN_CL_M/MAINWORK_M'] = (sc['MAIN_CL_M'] / sc['MAINWORK_M']) # Employment of male main worker cultivators\n",
        "\n",
        "sc['MAIN_AL_P/MAINWORK_P'] = (sc['MAIN_AL_P'] / sc['MAINWORK_P']) # Employment of main worker agricultural labourers\n",
        "sc['MAIN_AL_F/MAINWORK_F'] = (sc['MAIN_AL_F'] / sc['MAINWORK_F']) # Employment of female main worker agricultural labourers\n",
        "sc['MAIN_AL_M/MAINWORK_M'] = (sc['MAIN_AL_M'] / sc['MAINWORK_M']) # Employment of male main worker agricultural labourers\n",
        "\n",
        "sc['MAIN_HH_P/MAINWORK_P'] = (sc['MAIN_HH_P'] / sc['MAINWORK_P']) # Employment of main workers in Household Industries\n",
        "sc['MAIN_HH_F/MAINWORK_F'] = (sc['MAIN_HH_F'] / sc['MAINWORK_F']) # Employment of female main workers in Household Industries\n",
        "sc['MAIN_HH_M/MAINWORK_M'] = (sc['MAIN_HH_M'] / sc['MAINWORK_M'])  # Employment of male main workers in Household Industries\n",
        "\n",
        "sc['MAIN_OT_P/MAINWORK_P'] = (sc['MAIN_OT_P'] / sc['MAINWORK_P']) # Employment of main other workers\n",
        "sc['MAIN_OT_F/MAINWORK_F'] = (sc['MAIN_OT_F'] / sc['MAINWORK_F']) # Employment of female main other workers\n",
        "sc['MAIN_OT_M/MAINWORK_M'] = (sc['MAIN_OT_M'] / sc['MAINWORK_M']) # Employment of male main other workers\n",
        "\n",
        "# Marginal workers\n",
        "sc['MARG_CL_P/MARGWORK_P'] = (sc['MARG_CL_P'] / sc['MARGWORK_P']) # Employment of marginal cultivators\n",
        "sc['MARG_CL_F/MARGWORK_F'] = (sc['MARG_CL_F'] / sc['MARGWORK_F']) # Employment of female marginal cultivators\n",
        "sc['MARG_CL_M/MARGWORK_M'] = (sc['MARG_CL_M'] / sc['MARGWORK_M']) # Employment of male marginal cultivators\n",
        "\n",
        "sc['MARG_AL_P/MARGWORK_P'] = (sc['MARG_AL_P'] / sc['MARGWORK_P']) # Employment of marginal agricultural labourers\n",
        "sc['MARG_AL_F/MARGWORK_F'] = (sc['MARG_AL_F'] / sc['MARGWORK_F']) # Employment of female marginal cultivators\n",
        "sc['MARG_AL_M/MARGWORK_M'] = (sc['MARG_AL_M'] / sc['MARGWORK_M']) # Employment of male marginal cultivators\n",
        "\n",
        "sc['MARG_HH_P/MARGWORK_P'] = (sc['MARG_HH_P'] / sc['MARGWORK_P']) # Employment of marginal workers in Household Industries\n",
        "sc['MARG_HH_F/MARGWORK_F'] = (sc['MARG_HH_F'] / sc['MARGWORK_F']) # Employment of female marginal workers in Household Industries\n",
        "sc['MARG_HH_M/MARGWORK_M'] = (sc['MARG_HH_M'] / sc['MARGWORK_M']) # Employment of male marginal workers in Household Industries\n",
        "\n",
        "sc['MARG_OT_P/MARGWORK_P'] = (sc['MARG_OT_P'] / sc['MARGWORK_P']) # Employment of marginal other workers\n",
        "sc['MARG_OT_F/MARGWORK_F'] = (sc['MARG_OT_F'] / sc['MARGWORK_F']) # Employment of female marginal other workers\n",
        "sc['MARG_OT_M/MARGWORK_M'] = (sc['MARG_OT_M'] / sc['MARGWORK_M']) # Employment of male marginal other workers\n",
        "\n",
        "sc['MARGWORK_3_6_P/MARGWORK_P'] = (sc['MARGWORK_3_6_P'] / sc['MARGWORK_P']) # Employment of marginal workers who worked for 3 months or more and less than 6 months\n",
        "sc['MARGWORK_3_6_F/MARGWORK_F'] = (sc['MARGWORK_3_6_F'] / sc['MARGWORK_F']) # Employment of female marginal workers who worked for 3 months or more and less than 6 months\n",
        "sc['MARGWORK_3_6_M/MARGWORK_M'] = (sc['MARGWORK_3_6_M'] / sc['MARGWORK_M']) # Employment of male marginal workers who worked for 3 months or more and less than 6 months\n",
        "\n",
        "sc['MARG_CL_3_6_P/MARGWORK_P'] = (sc['MARG_CL_3_6_P'] / sc['MARGWORK_P']) # Employment of marginal cultivators who worked for 3 months or more and less than 6 months\n",
        "sc['MARG_CL_3_6_F/MARGWORK_F'] = (sc['MARG_CL_3_6_F'] / sc['MARGWORK_F']) # Employment of female marginal cultivators who worked for 3 months or more and less than 6 months\n",
        "sc['MARG_CL_3_6_M/MARGWORK_M'] = (sc['MARG_CL_3_6_M'] / sc['MARGWORK_M']) # Employment of male marginal cultivators who worked for 3 months or more and less than 6 months\n",
        "\n",
        "sc['MARG_AL_3_6_P/MARGWORK_P'] = (sc['MARG_AL_3_6_P'] / sc['MARGWORK_P']) # Employment of marginal agricultural labourers who worked for 3 months or more and less than 6 months\n",
        "sc['MARG_AL_3_6_F/MARGWORK_F'] = (sc['MARG_AL_3_6_F'] / sc['MARGWORK_F']) # Employment of female marginal agricultural labourers who worked for 3 months or more and less than 6 months\n",
        "sc['MARG_AL_3_6_M/MARGWORK_M'] = (sc['MARG_AL_3_6_M'] / sc['MARGWORK_M']) # Employment of male marginal agricultural labourers who worked for 3 months or more and less than 6 months\n",
        "\n",
        "sc['MARG_HH_3_6_P/MARGWORK_P'] = (sc['MARG_HH_3_6_P'] / sc['MARGWORK_P']) # Employment of marginal workers in household industries who worked for 3 months or more and less than 6 months\n",
        "sc['MARG_HH_3_6_F/MARGWORK_F'] = (sc['MARG_HH_3_6_F'] / sc['MARGWORK_F']) # Employment of female marginal workers in household industries who worked for 3 months or more and less than 6 months\n",
        "sc['MARG_HH_3_6_M/MARGWORK_M'] = (sc['MARG_HH_3_6_M'] / sc['MARGWORK_M']) # Employment of male marginal workers in household industries who worked for 3 months or more and less than 6 months\n",
        "\n",
        "sc['MARG_OT_3_6_P/MARGWORK_P'] = (sc['MARG_OT_3_6_P'] / sc['MARGWORK_P']) # Employment of marginal Other Workers who worked for 3 months or more and less than 6 months\n",
        "sc['MARG_OT_3_6_F/MARGWORK_F'] = (sc['MARG_OT_3_6_F'] / sc['MARGWORK_F']) # Employment of female marginal Other Workers who worked for 3 months or more and less than 6 months\n",
        "sc['MARG_OT_3_6_M/MARGWORK_M'] = (sc['MARG_OT_3_6_M'] / sc['MARGWORK_M']) # Employment of male marginal Other Workers who worked for 3 months or more and less than 6 months\n",
        "\n",
        "sc['MARG_OT_0_3_P/MARGWORK_P'] = (sc['MARG_OT_0_3_P'] / sc['MARGWORK_P']) # Employment of Other Workers who've worked less than three months\n",
        "sc['MARG_OT_0_3_F/MARGWORK_F'] = (sc['MARG_OT_0_3_F'] / sc['MARGWORK_F']) # Employment of female Other Workers who've worked less than three months\n",
        "sc['MARG_OT_0_3_M/MARGWORK_M'] = (sc['MARG_OT_0_3_M'] / sc['MARGWORK_M']) # Employment of male Other Workers who've worked less than three months\n",
        "\n",
        "\n",
        "\n",
        "\n",
        "\n",
        "# General employment of SCs (Total, main & marginal)\n",
        "sc['TOT_WORK_P_sc/TOT_WORK_P'] = (sc['TOT_WORK_P_sc'] / sc['TOT_WORK_P'])\n",
        "sc['TOT_WORK_F_sc/TOT_WORK_F'] = (sc['TOT_WORK_F_sc'] / sc['TOT_WORK_F'])\n",
        "sc['TOT_WORK_M_sc/TOT_WORK_M'] = (sc['TOT_WORK_M_sc'] / sc['TOT_WORK_M'])\n",
        "\n",
        "\n",
        "# Employment of agricultural population\n",
        "# Cultivators (Main workers & Marginal workers)\n"
      ],
      "metadata": {
        "id": "qnbHDbvBHCIR"
      },
      "execution_count": null,
      "outputs": []
    },
    {
      "cell_type": "code",
      "source": [
        "# Overall employment (Total, main & marginal)\n",
        "sc['TOT_WORK_P_sc/TOT_P'] = (sc['TOT_WORK_P_sc'] / sc['TOT_P']) # Total employment ratio\n",
        "sc['TOT_WORK_F_sc/TOT_F'] = (sc['TOT_WORK_F_sc'] / sc['TOT_F']) # Total Female employment ratio\n",
        "sc['TOT_WORK_M_sc/TOT_M'] = (sc['TOT_WORK_M_sc'] / sc['TOT_M']) # Total Male employment ratio\n",
        "\n",
        "sc['NON_WORK_P_sc/TOT_P'] = (sc['NON_WORK_P_sc'] / sc['TOT_P']) # Total unemployment ratio\n",
        "sc['NON_WORK_F_sc/TOT_F'] = (sc['NON_WORK_F_sc'] / sc['TOT_F']) # Total Female unemployment ratio\n",
        "sc['NON_WORK_M_sc/TOT_M'] = (sc['NON_WORK_M_sc'] / sc['TOT_M']) # Total Male unemployment ratio\n",
        "\n",
        "sc['MAINWORK_P_sc/TOT_WORK_P'] = (sc['MAINWORK_P_sc'] / sc['TOT_WORK_P']) # Employment of Main workers\n",
        "sc['MAINWORK_F_sc/TOT_WORK_F'] = (sc['MAINWORK_F_sc'] / sc['TOT_WORK_F']) # Employment of female Main workers\n",
        "sc['MAINWORK_M_sc/TOT_WORK_M'] = (sc['MAINWORK_M_sc'] / sc['TOT_WORK_M']) # Employment of male Main workers\n",
        "\n",
        "sc['MARGWORK_P_sc/TOT_WORK_P'] = (sc['MARGWORK_P_sc'] / sc['TOT_WORK_P']) # Employment of Marginal workers\n",
        "sc['MARGWORK_F_sc/TOT_WORK_F'] = (sc['MARGWORK_F_sc'] / sc['TOT_WORK_F']) # Employment of female Marginal workers\n",
        "sc['MARGWORK_M_sc/TOT_WORK_M'] = (sc['MARGWORK_M_sc'] / sc['TOT_WORK_M']) # Employment of male Marginal workers\n",
        "\n",
        "# Overall Culativator, Agricultural Labourer, Wokers in Household Industries employment & Other workers\n",
        "# Main workers\n",
        "sc['MAIN_CL_P_sc/MAINWORK_P'] = (sc['MAIN_CL_P_sc'] / sc['MAINWORK_P']) # Employment of main worker cultivators\n",
        "sc['MAIN_CL_F_sc/MAINWORK_F'] = (sc['MAIN_CL_F_sc'] / sc['MAINWORK_F']) # Employment of female main worker cultivators\n",
        "sc['MAIN_CL_M_sc/MAINWORK_M'] = (sc['MAIN_CL_M_sc'] / sc['MAINWORK_M']) # Employment of male main worker cultivators\n",
        "\n",
        "sc['MAIN_AL_P_sc/MAINWORK_P'] = (sc['MAIN_AL_P_sc'] / sc['MAINWORK_P']) # Employment of main worker agricultural labourers\n",
        "sc['MAIN_AL_F_sc/MAINWORK_F'] = (sc['MAIN_AL_F_sc'] / sc['MAINWORK_F']) # Employment of female main worker agricultural labourers\n",
        "sc['MAIN_AL_M_sc/MAINWORK_M'] = (sc['MAIN_AL_M_sc'] / sc['MAINWORK_M']) # Employment of male main worker agricultural labourers\n",
        "\n",
        "sc['MAIN_HH_P_sc/MAINWORK_P'] = (sc['MAIN_HH_P_sc'] / sc['MAINWORK_P']) # Employment of main workers in Household Industries\n",
        "sc['MAIN_HH_F_sc/MAINWORK_F'] = (sc['MAIN_HH_F_sc'] / sc['MAINWORK_F']) # Employment of female main workers in Household Industries\n",
        "sc['MAIN_HH_M_sc/MAINWORK_M'] = (sc['MAIN_HH_M_sc'] / sc['MAINWORK_M'])  # Employment of male main workers in Household Industries\n",
        "\n",
        "sc['MAIN_OT_P_sc/MAINWORK_P'] = (sc['MAIN_OT_P_sc'] / sc['MAINWORK_P']) # Employment of main other workers\n",
        "sc['MAIN_OT_F_sc/MAINWORK_F'] = (sc['MAIN_OT_F_sc'] / sc['MAINWORK_F']) # Employment of female main other workers\n",
        "sc['MAIN_OT_M_sc/MAINWORK_M'] = (sc['MAIN_OT_M_sc'] / sc['MAINWORK_M']) # Employment of male main other workers\n",
        "\n",
        "# Marginal workers\n",
        "sc['MARG_CL_P_sc/MARGWORK_P'] = (sc['MARG_CL_P_sc'] / sc['MARGWORK_P']) # Employment of marginal cultivators\n",
        "sc['MARG_CL_F_sc/MARGWORK_F'] = (sc['MARG_CL_F_sc'] / sc['MARGWORK_F']) # Employment of female marginal cultivators\n",
        "sc['MARG_CL_M_sc/MARGWORK_M'] = (sc['MARG_CL_M_sc'] / sc['MARGWORK_M']) # Employment of male marginal cultivators\n",
        "\n",
        "sc['MARG_AL_P_sc/MARGWORK_P'] = (sc['MARG_AL_P_sc'] / sc['MARGWORK_P']) # Employment of marginal agricultural labourers\n",
        "sc['MARG_AL_F_sc/MARGWORK_F'] = (sc['MARG_AL_F_sc'] / sc['MARGWORK_F']) # Employment of female marginal cultivators\n",
        "sc['MARG_AL_M_sc/MARGWORK_M'] = (sc['MARG_AL_M_sc'] / sc['MARGWORK_M']) # Employment of male marginal cultivators\n",
        "\n",
        "sc['MARG_HH_P_sc/MARGWORK_P'] = (sc['MARG_HH_P_sc'] / sc['MARGWORK_P']) # Employment of marginal workers in Household Industries\n",
        "sc['MARG_HH_F_sc/MARGWORK_F'] = (sc['MARG_HH_F_sc'] / sc['MARGWORK_F']) # Employment of female marginal workers in Household Industries\n",
        "sc['MARG_HH_M_sc/MARGWORK_M'] = (sc['MARG_HH_M_sc'] / sc['MARGWORK_M']) # Employment of male marginal workers in Household Industries\n",
        "\n",
        "sc['MARG_OT_P_sc/MARGWORK_P'] = (sc['MARG_OT_P_sc'] / sc['MARGWORK_P']) # Employment of marginal other workers\n",
        "sc['MARG_OT_F_sc/MARGWORK_F'] = (sc['MARG_OT_F_sc'] / sc['MARGWORK_F']) # Employment of female marginal other workers\n",
        "sc['MARG_OT_M_sc/MARGWORK_M'] = (sc['MARG_OT_M_sc'] / sc['MARGWORK_M']) # Employment of male marginal other workers\n",
        "\n",
        "sc['MARGWORK_3_6_P_sc/MARGWORK_P'] = (sc['MARGWORK_3_6_P_sc'] / sc['MARGWORK_P']) # Employment of marginal workers who worked for 3 months or more and less than 6 months\n",
        "sc['MARGWORK_3_6_F_sc/MARGWORK_F'] = (sc['MARGWORK_3_6_F_sc'] / sc['MARGWORK_F']) # Employment of female marginal workers who worked for 3 months or more and less than 6 months\n",
        "sc['MARGWORK_3_6_M_sc/MARGWORK_M'] = (sc['MARGWORK_3_6_M_sc'] / sc['MARGWORK_M']) # Employment of male marginal workers who worked for 3 months or more and less than 6 months\n",
        "\n",
        "sc['MARG_CL_3_6_P_sc/MARGWORK_P'] = (sc['MARG_CL_3_6_P_sc'] / sc['MARGWORK_P']) # Employment of marginal cultivators who worked for 3 months or more and less than 6 months\n",
        "sc['MARG_CL_3_6_F_sc/MARGWORK_F'] = (sc['MARG_CL_3_6_F_sc'] / sc['MARGWORK_F']) # Employment of female marginal cultivators who worked for 3 months or more and less than 6 months\n",
        "sc['MARG_CL_3_6_M_sc/MARGWORK_M'] = (sc['MARG_CL_3_6_M_sc'] / sc['MARGWORK_M']) # Employment of male marginal cultivators who worked for 3 months or more and less than 6 months\n",
        "\n",
        "sc['MARG_AL_3_6_P_sc/MARGWORK_P'] = (sc['MARG_AL_3_6_P_sc'] / sc['MARGWORK_P']) # Employment of marginal agricultural labourers who worked for 3 months or more and less than 6 months\n",
        "sc['MARG_AL_3_6_F_sc/MARGWORK_F'] = (sc['MARG_AL_3_6_F_sc'] / sc['MARGWORK_F']) # Employment of female marginal agricultural labourers who worked for 3 months or more and less than 6 months\n",
        "sc['MARG_AL_3_6_M_sc/MARGWORK_M'] = (sc['MARG_AL_3_6_M_sc'] / sc['MARGWORK_M']) # Employment of male marginal agricultural labourers who worked for 3 months or more and less than 6 months\n",
        "\n",
        "sc['MARG_HH_3_6_P_sc/MARGWORK_P'] = (sc['MARG_HH_3_6_P_sc'] / sc['MARGWORK_P']) # Employment of marginal workers in household industries who worked for 3 months or more and less than 6 months\n",
        "sc['MARG_HH_3_6_F_sc/MARGWORK_F'] = (sc['MARG_HH_3_6_F_sc'] / sc['MARGWORK_F']) # Employment of female marginal workers in household industries who worked for 3 months or more and less than 6 months\n",
        "sc['MARG_HH_3_6_M_sc/MARGWORK_M'] = (sc['MARG_HH_3_6_M_sc'] / sc['MARGWORK_M']) # Employment of male marginal workers in household industries who worked for 3 months or more and less than 6 months\n",
        "\n",
        "sc['MARG_OT_3_6_P_sc/MARGWORK_P'] = (sc['MARG_OT_3_6_P_sc'] / sc['MARGWORK_P']) # Employment of marginal Other Workers who worked for 3 months or more and less than 6 months\n",
        "sc['MARG_OT_3_6_F_sc/MARGWORK_F'] = (sc['MARG_OT_3_6_F_sc'] / sc['MARGWORK_F']) # Employment of female marginal Other Workers who worked for 3 months or more and less than 6 months\n",
        "sc['MARG_OT_3_6_M_sc/MARGWORK_M'] = (sc['MARG_OT_3_6_M_sc'] / sc['MARGWORK_M']) # Employment of male marginal Other Workers who worked for 3 months or more and less than 6 months\n",
        "\n",
        "sc['MARG_OT_0_3_P_sc/MARGWORK_P'] = (sc['MARG_OT_0_3_P_sc'] / sc['MARGWORK_P']) # Employment of Other Workers who've worked less than three months\n",
        "sc['MARG_OT_0_3_F_sc/MARGWORK_F'] = (sc['MARG_OT_0_3_F_sc'] / sc['MARGWORK_F']) # Employment of female Other Workers who've worked less than three months\n",
        "sc['MARG_OT_0_3_M_sc/MARGWORK_M'] = (sc['MARG_OT_0_3_M_sc'] / sc['MARGWORK_M']) # Employment of male Other Workers who've worked less than three months"
      ],
      "metadata": {
        "id": "O-k8Es_pVIIi"
      },
      "execution_count": null,
      "outputs": []
    },
    {
      "cell_type": "code",
      "source": [
        "output_file = 'sc_modified.xlsx'\n",
        "sc.to_excel(output_file, index=True)\n",
        "# Step 3: Download the file\n",
        "files.download(output_file)"
      ],
      "metadata": {
        "colab": {
          "base_uri": "https://localhost:8080/",
          "height": 17
        },
        "id": "ybHUmQTvVeUT",
        "outputId": "44623cf7-6531-424f-c829-e4667cc0cc05"
      },
      "execution_count": null,
      "outputs": [
        {
          "output_type": "display_data",
          "data": {
            "text/plain": [
              "<IPython.core.display.Javascript object>"
            ],
            "application/javascript": [
              "\n",
              "    async function download(id, filename, size) {\n",
              "      if (!google.colab.kernel.accessAllowed) {\n",
              "        return;\n",
              "      }\n",
              "      const div = document.createElement('div');\n",
              "      const label = document.createElement('label');\n",
              "      label.textContent = `Downloading \"${filename}\": `;\n",
              "      div.appendChild(label);\n",
              "      const progress = document.createElement('progress');\n",
              "      progress.max = size;\n",
              "      div.appendChild(progress);\n",
              "      document.body.appendChild(div);\n",
              "\n",
              "      const buffers = [];\n",
              "      let downloaded = 0;\n",
              "\n",
              "      const channel = await google.colab.kernel.comms.open(id);\n",
              "      // Send a message to notify the kernel that we're ready.\n",
              "      channel.send({})\n",
              "\n",
              "      for await (const message of channel.messages) {\n",
              "        // Send a message to notify the kernel that we're ready.\n",
              "        channel.send({})\n",
              "        if (message.buffers) {\n",
              "          for (const buffer of message.buffers) {\n",
              "            buffers.push(buffer);\n",
              "            downloaded += buffer.byteLength;\n",
              "            progress.value = downloaded;\n",
              "          }\n",
              "        }\n",
              "      }\n",
              "      const blob = new Blob(buffers, {type: 'application/binary'});\n",
              "      const a = document.createElement('a');\n",
              "      a.href = window.URL.createObjectURL(blob);\n",
              "      a.download = filename;\n",
              "      div.appendChild(a);\n",
              "      a.click();\n",
              "      div.remove();\n",
              "    }\n",
              "  "
            ]
          },
          "metadata": {}
        },
        {
          "output_type": "display_data",
          "data": {
            "text/plain": [
              "<IPython.core.display.Javascript object>"
            ],
            "application/javascript": [
              "download(\"download_cc81a3c4-0e5a-41db-80b6-22e1af99a761\", \"sc_modified.xlsx\", 1719345)"
            ]
          },
          "metadata": {}
        }
      ]
    },
    {
      "cell_type": "code",
      "source": [
        "#testing block\n",
        "#print(sc.columns.tolist())\n",
        "#print(st.columns.tolist())\n",
        "#output_file = 'test.xlsx'\n",
        "#sc.to_excel(output_file, index=True)\n",
        "#files.download(output_file)"
      ],
      "metadata": {
        "id": "m6Ki_Q9LH8S_"
      },
      "execution_count": null,
      "outputs": []
    },
    {
      "cell_type": "code",
      "source": [
        "#df['proportion'] = df['x'] / df['y']\n",
        "\n",
        "# gender ratios\n",
        "sc['total_f/p'] = (sc['TOT_F'] / sc['TOT_P'] )\n",
        "sc['m_lit/p_lit'] = (sc['M_LIT'] / sc['P_LIT'] )\n",
        "sc['f_lit/p_lit'] = (sc['F_LIT'] / sc['P_LIT'] )\n",
        "sc['totwork_f/p'] = (sc['TOT_WORK_F'] / sc['TOT_WORK_P'])\n",
        "sc['totwork_m/p'] = (sc['TOT_WORK_M'] / sc['TOT_WORK_P'])\n",
        "sc['mainwork_f/p'] = (sc['MAINWORK_F'] / sc['MAINWORK_P'])\n",
        "sc['mainwork_m/p'] = (sc['MAINWORK_M'] / sc['MAINWORK_P'])\n",
        "sc['main_cl_f/p'] = (sc['MAIN_CL_F'] / sc['MAIN_CL_P'])\n",
        "sc['main_cl_m/p'] = (sc['MAIN_CL_M'] / sc['MAIN_CL_P'])\n",
        "sc['main_al_f/p'] = (sc['MAIN_AL_F'] / sc['MAIN_AL_P'])\n",
        "sc['main_al_m/p'] = (sc['MAIN_AL_M'] / sc['MAIN_AL_P'])\n",
        "sc['main_hh_f/p'] = (sc['MAIN_HH_F'] / sc['MAIN_HH_P'])\n",
        "sc['main_hh_m/p'] = (sc['MAIN_HH_M'] / sc['MAIN_HH_P'])\n",
        "sc['main_ot_f/p'] = (sc['MAIN_OT_F'] / sc['MAIN_OT_P'])\n",
        "sc['main_ot_m/p'] = (sc['MAIN_OT_M'] / sc['MAIN_OT_P'])\n",
        "sc['margwork_f/p'] = (sc['MARGWORK_F'] / sc['MARGWORK_P'])\n",
        "sc['margwork_m/p'] = (sc['MARGWORK_M'] / sc['MARGWORK_P'])\n",
        "sc['marg_cl_f/p'] = (sc['MARG_CL_F'] / sc['MARG_CL_P'])\n",
        "sc['marg_cl_m/p'] = (sc['MARG_CL_M'] / sc['MARG_CL_P'])\n",
        "sc['marg_al_f/p'] = (sc['MARG_AL_F'] / sc['MARG_AL_P'])\n",
        "sc['marg_al_m/p'] = (sc['MARG_AL_M'] / sc['MARG_AL_P'])\n",
        "sc['marg_hh_f/p'] = (sc['MARG_HH_F'] / sc['MARG_HH_P'])\n",
        "sc['marg_hh_m/p'] = (sc['MARG_HH_M'] / sc['MARG_HH_P'])\n",
        "sc['marg_ot_f/p'] = (sc['MARG_OT_F'] / sc['MARG_OT_P'])\n",
        "sc['marg_ot_m/p'] = (sc['MARG_OT_M'] / sc['MARG_OT_P'])\n",
        "sc['non_work_f/p'] = (sc['NON_WORK_F'] / sc['NON_WORK_P'])\n",
        "sc['non_work_m/p'] = (sc['NON_WORK_M'] / sc['NON_WORK_P'])\n",
        "\n",
        "# prop\n",
        "sc['MARGWORK_P/TOT_P'] = (sc['MARGWORK_P'] / sc['TOT_P'])\n",
        "sc['NON_WORK_P/TOT_P'] = (sc['NON_WORK_P'] / sc['TOT_P'])\n",
        "\n",
        "# employment of F SC / Total SC female\n",
        "sc['TOT_WORK_F/TOT_F'] = (sc['TOT_WORK_F'] / sc['TOT_F'])\n",
        "\n",
        "# employment of M SC / Total SC male\n",
        "#sc['TOT_WORK_M/TOT_M'] = (sc['TOT_WORK_M'] / sc['TOT_M'])\n",
        "\n"
      ],
      "metadata": {
        "id": "gzay3cYJFyK0"
      },
      "execution_count": null,
      "outputs": []
    },
    {
      "cell_type": "code",
      "source": [
        "output_file = 'sc_modified.xlsx'\n",
        "sc.to_excel(output_file, index=True)\n",
        "# Step 3: Download the file\n",
        "files.download(output_file)"
      ],
      "metadata": {
        "colab": {
          "base_uri": "https://localhost:8080/",
          "height": 17
        },
        "id": "CmE_TFHIHQHb",
        "outputId": "2cfd33c8-7cf9-4c11-c7e2-af3ea1a9e8e5"
      },
      "execution_count": null,
      "outputs": [
        {
          "output_type": "display_data",
          "data": {
            "text/plain": [
              "<IPython.core.display.Javascript object>"
            ],
            "application/javascript": [
              "\n",
              "    async function download(id, filename, size) {\n",
              "      if (!google.colab.kernel.accessAllowed) {\n",
              "        return;\n",
              "      }\n",
              "      const div = document.createElement('div');\n",
              "      const label = document.createElement('label');\n",
              "      label.textContent = `Downloading \"${filename}\": `;\n",
              "      div.appendChild(label);\n",
              "      const progress = document.createElement('progress');\n",
              "      progress.max = size;\n",
              "      div.appendChild(progress);\n",
              "      document.body.appendChild(div);\n",
              "\n",
              "      const buffers = [];\n",
              "      let downloaded = 0;\n",
              "\n",
              "      const channel = await google.colab.kernel.comms.open(id);\n",
              "      // Send a message to notify the kernel that we're ready.\n",
              "      channel.send({})\n",
              "\n",
              "      for await (const message of channel.messages) {\n",
              "        // Send a message to notify the kernel that we're ready.\n",
              "        channel.send({})\n",
              "        if (message.buffers) {\n",
              "          for (const buffer of message.buffers) {\n",
              "            buffers.push(buffer);\n",
              "            downloaded += buffer.byteLength;\n",
              "            progress.value = downloaded;\n",
              "          }\n",
              "        }\n",
              "      }\n",
              "      const blob = new Blob(buffers, {type: 'application/binary'});\n",
              "      const a = document.createElement('a');\n",
              "      a.href = window.URL.createObjectURL(blob);\n",
              "      a.download = filename;\n",
              "      div.appendChild(a);\n",
              "      a.click();\n",
              "      div.remove();\n",
              "    }\n",
              "  "
            ]
          },
          "metadata": {}
        },
        {
          "output_type": "display_data",
          "data": {
            "text/plain": [
              "<IPython.core.display.Javascript object>"
            ],
            "application/javascript": [
              "download(\"download_68e9e0f5-37d8-437b-969d-a65fc712e8d6\", \"sc_modified.xlsx\", 1623701)"
            ]
          },
          "metadata": {}
        }
      ]
    },
    {
      "cell_type": "code",
      "source": [
        "# employment of F agri workers / total SC female\n",
        "sc2['MM_F/TOT_F'] = (sc2['MM_F'] / sc2['TOT_F'])\n",
        "sc2['MM_M/TOT_M'] = (sc2['MM_M'] / sc2['TOT_M'])\n",
        "\n",
        "# 5-14 SC workers:  5-14 SC workers/Total SC workers\n",
        "total_SC_wokers = 58183481 + 4707326 + 19413945\n",
        "child_total_workers = 767812 + 330969 + 679097\n",
        "sc_child_prop = child_total_workers / total_SC_wokers\n",
        "print(sc_child_prop)"
      ],
      "metadata": {
        "colab": {
          "base_uri": "https://localhost:8080/"
        },
        "id": "rJUKQapw2dIl",
        "outputId": "f4416f57-8c48-4a69-8cf6-f9c66b34c602"
      },
      "execution_count": null,
      "outputs": [
        {
          "output_type": "stream",
          "name": "stdout",
          "text": [
            "0.021601158581949192\n"
          ]
        }
      ]
    },
    {
      "cell_type": "markdown",
      "source": [],
      "metadata": {
        "id": "FT3Gt9FivWB6"
      }
    },
    {
      "cell_type": "code",
      "source": [
        "output_file = 'B1SC_modified.xlsx'\n",
        "sc2.to_excel(output_file, index=True)\n",
        "# Step 3: Download the file\n",
        "files.download(output_file)"
      ],
      "metadata": {
        "id": "2a7suyFm9nm2",
        "colab": {
          "base_uri": "https://localhost:8080/",
          "height": 17
        },
        "outputId": "3fd43e84-580b-4162-a156-5f05246bc6d1"
      },
      "execution_count": null,
      "outputs": [
        {
          "output_type": "display_data",
          "data": {
            "text/plain": [
              "<IPython.core.display.Javascript object>"
            ],
            "application/javascript": [
              "\n",
              "    async function download(id, filename, size) {\n",
              "      if (!google.colab.kernel.accessAllowed) {\n",
              "        return;\n",
              "      }\n",
              "      const div = document.createElement('div');\n",
              "      const label = document.createElement('label');\n",
              "      label.textContent = `Downloading \"${filename}\": `;\n",
              "      div.appendChild(label);\n",
              "      const progress = document.createElement('progress');\n",
              "      progress.max = size;\n",
              "      div.appendChild(progress);\n",
              "      document.body.appendChild(div);\n",
              "\n",
              "      const buffers = [];\n",
              "      let downloaded = 0;\n",
              "\n",
              "      const channel = await google.colab.kernel.comms.open(id);\n",
              "      // Send a message to notify the kernel that we're ready.\n",
              "      channel.send({})\n",
              "\n",
              "      for await (const message of channel.messages) {\n",
              "        // Send a message to notify the kernel that we're ready.\n",
              "        channel.send({})\n",
              "        if (message.buffers) {\n",
              "          for (const buffer of message.buffers) {\n",
              "            buffers.push(buffer);\n",
              "            downloaded += buffer.byteLength;\n",
              "            progress.value = downloaded;\n",
              "          }\n",
              "        }\n",
              "      }\n",
              "      const blob = new Blob(buffers, {type: 'application/binary'});\n",
              "      const a = document.createElement('a');\n",
              "      a.href = window.URL.createObjectURL(blob);\n",
              "      a.download = filename;\n",
              "      div.appendChild(a);\n",
              "      a.click();\n",
              "      div.remove();\n",
              "    }\n",
              "  "
            ]
          },
          "metadata": {}
        },
        {
          "output_type": "display_data",
          "data": {
            "text/plain": [
              "<IPython.core.display.Javascript object>"
            ],
            "application/javascript": [
              "download(\"download_c8fc345f-3341-4428-824c-d6386640194d\", \"B1SC_modified.xlsx\", 117591)"
            ]
          },
          "metadata": {}
        }
      ]
    },
    {
      "cell_type": "code",
      "source": [
        "# Employment of F agricultural workers / Total Female Population\n",
        "# total female agricultural workers = cultivators + agricultural labourers\n",
        "gen1['F_AGRI_WORKERS'] = gen1['CULT_F'] + gen1['AGRI_F']\n",
        "\n",
        "# Convert columns to numeric, coercing errors to NaN\n",
        "gen1['F_AGRI_WORKERS'] = pd.to_numeric(gen1['CULT_F'], errors='coerce')\n",
        "pop['TOT_F'] = pd.to_numeric(pop['TOT_F'], errors='coerce')\n",
        "\n",
        "# Perform the division after ensuring the columns are numeric\n",
        "gen1['F_AGRI_WORKERS/TOT_F'] = (gen1['F_AGRI_WORKERS'] / pop['TOT_F'])"
      ],
      "metadata": {
        "id": "zoDUSADCCusK"
      },
      "execution_count": null,
      "outputs": []
    },
    {
      "cell_type": "code",
      "source": [
        "output_file = 'B4copy_Modified.xlsx'\n",
        "gen1.to_excel(output_file, index=True)\n",
        "# Step 3: Download the file\n",
        "files.download(output_file)"
      ],
      "metadata": {
        "colab": {
          "base_uri": "https://localhost:8080/",
          "height": 17
        },
        "id": "Zqt2HsLENdiV",
        "outputId": "d4bcb3ff-3947-4811-cfab-581a5010178a"
      },
      "execution_count": null,
      "outputs": [
        {
          "output_type": "display_data",
          "data": {
            "text/plain": [
              "<IPython.core.display.Javascript object>"
            ],
            "application/javascript": [
              "\n",
              "    async function download(id, filename, size) {\n",
              "      if (!google.colab.kernel.accessAllowed) {\n",
              "        return;\n",
              "      }\n",
              "      const div = document.createElement('div');\n",
              "      const label = document.createElement('label');\n",
              "      label.textContent = `Downloading \"${filename}\": `;\n",
              "      div.appendChild(label);\n",
              "      const progress = document.createElement('progress');\n",
              "      progress.max = size;\n",
              "      div.appendChild(progress);\n",
              "      document.body.appendChild(div);\n",
              "\n",
              "      const buffers = [];\n",
              "      let downloaded = 0;\n",
              "\n",
              "      const channel = await google.colab.kernel.comms.open(id);\n",
              "      // Send a message to notify the kernel that we're ready.\n",
              "      channel.send({})\n",
              "\n",
              "      for await (const message of channel.messages) {\n",
              "        // Send a message to notify the kernel that we're ready.\n",
              "        channel.send({})\n",
              "        if (message.buffers) {\n",
              "          for (const buffer of message.buffers) {\n",
              "            buffers.push(buffer);\n",
              "            downloaded += buffer.byteLength;\n",
              "            progress.value = downloaded;\n",
              "          }\n",
              "        }\n",
              "      }\n",
              "      const blob = new Blob(buffers, {type: 'application/binary'});\n",
              "      const a = document.createElement('a');\n",
              "      a.href = window.URL.createObjectURL(blob);\n",
              "      a.download = filename;\n",
              "      div.appendChild(a);\n",
              "      a.click();\n",
              "      div.remove();\n",
              "    }\n",
              "  "
            ]
          },
          "metadata": {}
        },
        {
          "output_type": "display_data",
          "data": {
            "text/plain": [
              "<IPython.core.display.Javascript object>"
            ],
            "application/javascript": [
              "download(\"download_20bc9431-56a7-40b3-ad69-5dd3eb5706f0\", \"B4copy_Modified.xlsx\", 21303)"
            ]
          },
          "metadata": {}
        }
      ]
    },
    {
      "cell_type": "code",
      "source": [
        "# 5-14 SC workers:  5-14 SC workers/Total SC workers age14, agetot\n",
        "age14['MM_P_5-14/MM_P'] = (age14['MM_P'] / agetot['MM_P'])\n",
        "age14['MARG_P_3_14/MARG_P_3'] = (age14['MARG_P_3'] / agetot['MARG_P_3'])\n",
        "age14['NON_WORK_P_14/UNEMP_P'] = (age14['NONWORK_P'] / agetot['NONWORK_P'])\n",
        "age14['UNEMP_P_14/UNEMP_P'] = (age14['UNEMP_M'] / agetot['UNEMP_M'])"
      ],
      "metadata": {
        "id": "YeEKf-DqNlZ1"
      },
      "execution_count": null,
      "outputs": []
    },
    {
      "cell_type": "code",
      "source": [
        "output_file = 'B4SC_Age.xlsx'\n",
        "age14.to_excel(output_file, index=True)\n",
        "# Step 3: Download the file\n",
        "files.download(output_file)"
      ],
      "metadata": {
        "colab": {
          "base_uri": "https://localhost:8080/",
          "height": 17
        },
        "id": "onSZuX4RWtML",
        "outputId": "dc323a97-b0ab-42d8-e1f5-9b3c523e39b0"
      },
      "execution_count": null,
      "outputs": [
        {
          "output_type": "display_data",
          "data": {
            "text/plain": [
              "<IPython.core.display.Javascript object>"
            ],
            "application/javascript": [
              "\n",
              "    async function download(id, filename, size) {\n",
              "      if (!google.colab.kernel.accessAllowed) {\n",
              "        return;\n",
              "      }\n",
              "      const div = document.createElement('div');\n",
              "      const label = document.createElement('label');\n",
              "      label.textContent = `Downloading \"${filename}\": `;\n",
              "      div.appendChild(label);\n",
              "      const progress = document.createElement('progress');\n",
              "      progress.max = size;\n",
              "      div.appendChild(progress);\n",
              "      document.body.appendChild(div);\n",
              "\n",
              "      const buffers = [];\n",
              "      let downloaded = 0;\n",
              "\n",
              "      const channel = await google.colab.kernel.comms.open(id);\n",
              "      // Send a message to notify the kernel that we're ready.\n",
              "      channel.send({})\n",
              "\n",
              "      for await (const message of channel.messages) {\n",
              "        // Send a message to notify the kernel that we're ready.\n",
              "        channel.send({})\n",
              "        if (message.buffers) {\n",
              "          for (const buffer of message.buffers) {\n",
              "            buffers.push(buffer);\n",
              "            downloaded += buffer.byteLength;\n",
              "            progress.value = downloaded;\n",
              "          }\n",
              "        }\n",
              "      }\n",
              "      const blob = new Blob(buffers, {type: 'application/binary'});\n",
              "      const a = document.createElement('a');\n",
              "      a.href = window.URL.createObjectURL(blob);\n",
              "      a.download = filename;\n",
              "      div.appendChild(a);\n",
              "      a.click();\n",
              "      div.remove();\n",
              "    }\n",
              "  "
            ]
          },
          "metadata": {}
        },
        {
          "output_type": "display_data",
          "data": {
            "text/plain": [
              "<IPython.core.display.Javascript object>"
            ],
            "application/javascript": [
              "download(\"download_87ae963b-8247-4842-aa63-1d03d544a436\", \"B4SC_Age.xlsx\", 11881)"
            ]
          },
          "metadata": {}
        }
      ]
    },
    {
      "cell_type": "code",
      "source": [
        "#df['proportion'] = df['x'] / df['y']\n",
        "\n",
        "# gender ratios\n",
        "st['total_f/p'] = (st['TOT_F'] / st['TOT_P'] )\n",
        "st['m_lit/p_lit'] = (st['M_LIT'] / st['P_LIT'] )\n",
        "st['f_lit/p_lit'] = (st['F_LIT'] / st['P_LIT'] )\n",
        "st['totwork_f/p'] = (st['TOT_WORK_F'] / st['TOT_WORK_P'])\n",
        "st['totwork_m/p'] = (st['TOT_WORK_M'] / st['TOT_WORK_P'])\n",
        "st['mainwork_f/p'] = (st['MAINWORK_F'] / st['MAINWORK_P'])\n",
        "st['mainwork_m/p'] = (st['MAINWORK_M'] / st['MAINWORK_P'])\n",
        "st['main_cl_f/p'] = (st['MAIN_CL_F'] / st['MAIN_CL_P'])\n",
        "st['main_cl_m/p'] = (st['MAIN_CL_M'] / st['MAIN_CL_P'])\n",
        "st['main_al_f/p'] = (st['MAIN_AL_F'] / st['MAIN_AL_P'])\n",
        "st['main_al_m/p'] = (st['MAIN_AL_M'] / st['MAIN_AL_P'])\n",
        "st['main_hh_f/p'] = (st['MAIN_HH_F'] / st['MAIN_HH_P'])\n",
        "st['main_hh_m/p'] = (st['MAIN_HH_M'] / st['MAIN_HH_P'])\n",
        "st['main_ot_f/p'] = (st['MAIN_OT_F'] / st['MAIN_OT_P'])\n",
        "st['main_ot_m/p'] = (st['MAIN_OT_M'] / st['MAIN_OT_P'])\n",
        "st['margwork_f/p'] = (st['MARGWORK_F'] / st['MARGWORK_P'])\n",
        "st['margwork_m/p'] = (st['MARGWORK_M'] / st['MARGWORK_P'])\n",
        "st['marg_cl_f/p'] = (st['MARG_CL_F'] / st['MARG_CL_P'])\n",
        "st['marg_cl_m/p'] = (st['MARG_CL_M'] / st['MARG_CL_P'])\n",
        "st['marg_al_f/p'] = (st['MARG_AL_F'] / st['MARG_AL_P'])\n",
        "st['marg_al_m/p'] = (st['MARG_AL_M'] / st['MARG_AL_P'])\n",
        "st['marg_hh_f/p'] = (st['MARG_HH_F'] / st['MARG_HH_P'])\n",
        "st['marg_hh_m/p'] = (st['MARG_HH_M'] / st['MARG_HH_P'])\n",
        "st['marg_ot_f/p'] = (st['MARG_OT_F'] / st['MARG_OT_P'])\n",
        "st['marg_ot_m/p'] = (st['MARG_OT_M'] / st['MARG_OT_P'])\n",
        "st['non_work_f/p'] = (st['NON_WORK_F'] / st['NON_WORK_P'])\n",
        "st['non_work_m/p'] = (st['NON_WORK_M'] / st['NON_WORK_P'])\n",
        "\n",
        "# prop\n",
        "st['MARGWORK_P/TOT_P'] = (st['MARGWORK_P'] / st['TOT_P'])\n",
        "st['NON_WORK_P/TOT_P'] = (st['NON_WORK_P'] / st['TOT_P'])"
      ],
      "metadata": {
        "id": "l-GLwviDSxqr"
      },
      "execution_count": null,
      "outputs": []
    },
    {
      "cell_type": "code",
      "source": [
        "output_file = 'st_modified.xlsx'\n",
        "\n",
        "st.to_excel(output_file, index=True)\n",
        "# Step 3: Download the file\n",
        "files.download(output_file)"
      ],
      "metadata": {
        "colab": {
          "base_uri": "https://localhost:8080/",
          "height": 17
        },
        "id": "DXa80MFNThf_",
        "outputId": "4508e39f-5a53-4b7a-923a-d97fa6ddef75"
      },
      "execution_count": null,
      "outputs": [
        {
          "output_type": "display_data",
          "data": {
            "text/plain": [
              "<IPython.core.display.Javascript object>"
            ],
            "application/javascript": [
              "\n",
              "    async function download(id, filename, size) {\n",
              "      if (!google.colab.kernel.accessAllowed) {\n",
              "        return;\n",
              "      }\n",
              "      const div = document.createElement('div');\n",
              "      const label = document.createElement('label');\n",
              "      label.textContent = `Downloading \"${filename}\": `;\n",
              "      div.appendChild(label);\n",
              "      const progress = document.createElement('progress');\n",
              "      progress.max = size;\n",
              "      div.appendChild(progress);\n",
              "      document.body.appendChild(div);\n",
              "\n",
              "      const buffers = [];\n",
              "      let downloaded = 0;\n",
              "\n",
              "      const channel = await google.colab.kernel.comms.open(id);\n",
              "      // Send a message to notify the kernel that we're ready.\n",
              "      channel.send({})\n",
              "\n",
              "      for await (const message of channel.messages) {\n",
              "        // Send a message to notify the kernel that we're ready.\n",
              "        channel.send({})\n",
              "        if (message.buffers) {\n",
              "          for (const buffer of message.buffers) {\n",
              "            buffers.push(buffer);\n",
              "            downloaded += buffer.byteLength;\n",
              "            progress.value = downloaded;\n",
              "          }\n",
              "        }\n",
              "      }\n",
              "      const blob = new Blob(buffers, {type: 'application/binary'});\n",
              "      const a = document.createElement('a');\n",
              "      a.href = window.URL.createObjectURL(blob);\n",
              "      a.download = filename;\n",
              "      div.appendChild(a);\n",
              "      a.click();\n",
              "      div.remove();\n",
              "    }\n",
              "  "
            ]
          },
          "metadata": {}
        },
        {
          "output_type": "display_data",
          "data": {
            "text/plain": [
              "<IPython.core.display.Javascript object>"
            ],
            "application/javascript": [
              "download(\"download_aafa6d51-5a97-4d3f-b5ed-71d1249fb4e4\", \"st_modified.xlsx\", 1460536)"
            ]
          },
          "metadata": {}
        }
      ]
    }
  ]
}